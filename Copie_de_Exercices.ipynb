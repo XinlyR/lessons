{
  "nbformat": 4,
  "nbformat_minor": 0,
  "metadata": {
    "colab": {
      "provenance": [],
      "include_colab_link": true
    },
    "kernelspec": {
      "name": "python3",
      "display_name": "Python 3"
    },
    "language_info": {
      "name": "python"
    }
  },
  "cells": [
    {
      "cell_type": "markdown",
      "metadata": {
        "id": "view-in-github",
        "colab_type": "text"
      },
      "source": [
        "<a href=\"https://colab.research.google.com/github/XinlyR/lessons/blob/main/Copie_de_Exercices.ipynb\" target=\"_parent\"><img src=\"https://colab.research.google.com/assets/colab-badge.svg\" alt=\"Open In Colab\"/></a>"
      ]
    },
    {
      "cell_type": "code",
      "execution_count": null,
      "metadata": {
        "id": "gCfkBdyQikYw"
      },
      "outputs": [],
      "source": [
        "#1. Build a function that checks if two words are anagrams\n",
        "\n",
        "\n",
        "#2. Create a function that will return then \"n th\" element in Fibonacci Series (Recursion)"
      ]
    },
    {
      "cell_type": "code",
      "source": [
        "#1.\n",
        "word_1 = \"messi\"\n",
        "\n",
        "word_2 = \"vile\"\n",
        "\n",
        "{\"e\":1 , \"v\":1, \"i\":1, \"l\":1}  == {\"v\":1, \"i\":1, \"l\":1, \"e\":1}\n",
        "\n",
        "dict_w1 = {}\n",
        "for char in word_1:\n",
        "  dict_w1[char] = word_1.count(char)\n",
        "\n",
        "dict_w1"
      ],
      "metadata": {
        "colab": {
          "base_uri": "https://localhost:8080/"
        },
        "id": "uvoPTuRprmM6",
        "outputId": "c35f2e10-8497-4a49-f614-fe9b7fee5f8f"
      },
      "execution_count": null,
      "outputs": [
        {
          "output_type": "execute_result",
          "data": {
            "text/plain": [
              "{'m': 1, 'e': 1, 's': 2, 'i': 1}"
            ]
          },
          "metadata": {},
          "execution_count": 3
        }
      ]
    },
    {
      "cell_type": "code",
      "source": [
        "def check_anagrams(word_1, word_2):\n",
        "  dict_word_1 = {}\n",
        "  for char in word_1:\n",
        "    dict_word_1[char] = word_1.count(char)\n",
        "\n",
        "\n",
        "  dict_word_2 = {}\n",
        "  for char in word_2:\n",
        "    dict_word_2[char] = word_2.count(char)\n",
        "\n",
        "  return dict_word_1 == dict_word_2\n",
        "\n",
        "\n",
        "check_anagrams(\"listen\", \"silent\")"
      ],
      "metadata": {
        "colab": {
          "base_uri": "https://localhost:8080/"
        },
        "id": "P0fIwMi9r_Yl",
        "outputId": "6e4b1998-ffbc-4871-e71c-d6b3d2c94503"
      },
      "execution_count": null,
      "outputs": [
        {
          "output_type": "execute_result",
          "data": {
            "text/plain": [
              "True"
            ]
          },
          "metadata": {},
          "execution_count": 7
        }
      ]
    },
    {
      "cell_type": "code",
      "source": [
        "def anagram(word1, word2):\n",
        "  return set(word1) == set(word2)\n",
        "\n",
        "anagram(\"vileeeeeee\", \"evil\")"
      ],
      "metadata": {
        "colab": {
          "base_uri": "https://localhost:8080/"
        },
        "id": "rew5z2r0ss1D",
        "outputId": "1e764233-e4fb-42e6-b2cd-9ae69f3c1700"
      },
      "execution_count": null,
      "outputs": [
        {
          "output_type": "execute_result",
          "data": {
            "text/plain": [
              "True"
            ]
          },
          "metadata": {},
          "execution_count": 9
        }
      ]
    },
    {
      "cell_type": "code",
      "source": [
        "sorted([\"e\", \"v\",\"i\",\"l\"]) == sorted([\"v\", \"i\", \"l\", \"e\"])"
      ],
      "metadata": {
        "colab": {
          "base_uri": "https://localhost:8080/"
        },
        "id": "yYZI6tFatK_P",
        "outputId": "63ddaebb-21d6-420f-9fc9-3707218aed5d"
      },
      "execution_count": null,
      "outputs": [
        {
          "output_type": "execute_result",
          "data": {
            "text/plain": [
              "True"
            ]
          },
          "metadata": {},
          "execution_count": 13
        }
      ]
    },
    {
      "cell_type": "code",
      "source": [
        "x = sorted(\"evil\")"
      ],
      "metadata": {
        "id": "0RZNQiG7tOwU"
      },
      "execution_count": null,
      "outputs": []
    },
    {
      "cell_type": "code",
      "source": [
        "my_list = ['z', 'i', 'l', 'v']\n",
        "y = my_list.sort()"
      ],
      "metadata": {
        "id": "-KGn8i8Ct2J5"
      },
      "execution_count": null,
      "outputs": []
    },
    {
      "cell_type": "code",
      "source": [
        "my_list"
      ],
      "metadata": {
        "colab": {
          "base_uri": "https://localhost:8080/"
        },
        "id": "jnp7-1Yct_6v",
        "outputId": "7aa7029f-84fa-4dd8-fbad-a91d9f6794af"
      },
      "execution_count": null,
      "outputs": [
        {
          "output_type": "execute_result",
          "data": {
            "text/plain": [
              "['i', 'l', 'v', 'z']"
            ]
          },
          "metadata": {},
          "execution_count": 23
        }
      ]
    },
    {
      "cell_type": "code",
      "source": [
        "print(y)"
      ],
      "metadata": {
        "colab": {
          "base_uri": "https://localhost:8080/"
        },
        "id": "HzXowYzNuE6M",
        "outputId": "5cb1fc3a-aa4b-4e2e-e183-a9eccc51725c"
      },
      "execution_count": null,
      "outputs": [
        {
          "output_type": "stream",
          "name": "stdout",
          "text": [
            "None\n"
          ]
        }
      ]
    },
    {
      "cell_type": "code",
      "source": [
        "sorted(\"vile\")"
      ],
      "metadata": {
        "colab": {
          "base_uri": "https://localhost:8080/"
        },
        "id": "EvViP13xtmrv",
        "outputId": "bacda418-6b98-48d8-8b33-725769fcc28c"
      },
      "execution_count": null,
      "outputs": [
        {
          "output_type": "execute_result",
          "data": {
            "text/plain": [
              "['e', 'i', 'l', 'v']"
            ]
          },
          "metadata": {},
          "execution_count": 15
        }
      ]
    },
    {
      "cell_type": "code",
      "source": [
        "#2. Fibonacci Series\n",
        "\n",
        "#Recursive version\n",
        "#0, 1, 1, 2, 3, 5, 8, 13, 21, 34, 55, 89, 144,\n",
        "\n",
        "def fibo(n):\n",
        "  if n == 0:\n",
        "    return 0\n",
        "  elif n==1:\n",
        "    return 1\n",
        "  else:\n",
        "    return fibo(n-2) + fibo(n-1)\n",
        "\n",
        "\n",
        "fibo(9)"
      ],
      "metadata": {
        "colab": {
          "base_uri": "https://localhost:8080/"
        },
        "id": "TI3gap_TtoZW",
        "outputId": "f6891204-d7be-45d0-f3b9-a3af811e7711"
      },
      "execution_count": null,
      "outputs": [
        {
          "output_type": "execute_result",
          "data": {
            "text/plain": [
              "34"
            ]
          },
          "metadata": {},
          "execution_count": 32
        }
      ]
    },
    {
      "cell_type": "code",
      "source": [
        "# #for n = 2\n",
        "\n",
        "# fibo(2-2) + fibo(2-1)\n",
        "# fibo(0) + fibo(1)\n",
        "# 0       +  1 = 1\n",
        "\n",
        "# #for n = 3\n",
        "# fibo(1) + fibo(2)\n",
        "# 1       + fibo(0) + fibo(1)\n",
        "# 1       +    0    +  1\n",
        "# = 2"
      ],
      "metadata": {
        "id": "F0eMhKGvvJba"
      },
      "execution_count": null,
      "outputs": []
    },
    {
      "cell_type": "code",
      "source": [
        "def fibo_nr(n):\n",
        "  my_list = [0, 1]\n",
        "  #tomorrow starter"
      ],
      "metadata": {
        "id": "Xr_U5J4AwS7b"
      },
      "execution_count": null,
      "outputs": []
    }
  ]
}